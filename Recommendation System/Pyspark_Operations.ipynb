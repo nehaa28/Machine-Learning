{
  "nbformat": 4,
  "nbformat_minor": 0,
  "metadata": {
    "colab": {
      "name": "Pyspark Operations",
      "provenance": [],
      "collapsed_sections": []
    },
    "kernelspec": {
      "name": "python3",
      "display_name": "Python 3"
    },
    "language_info": {
      "name": "python"
    }
  },
  "cells": [
    {
      "cell_type": "code",
      "metadata": {
        "colab": {
          "base_uri": "https://localhost:8080/"
        },
        "id": "vcdXuDFouo8d",
        "outputId": "d3651d09-05a4-4427-dca5-1eb95bc88690"
      },
      "source": [
        "pip install pyspark"
      ],
      "execution_count": 1,
      "outputs": [
        {
          "output_type": "stream",
          "text": [
            "Collecting pyspark\n",
            "\u001b[?25l  Downloading https://files.pythonhosted.org/packages/89/db/e18cfd78e408de957821ec5ca56de1250645b05f8523d169803d8df35a64/pyspark-3.1.2.tar.gz (212.4MB)\n",
            "\u001b[K     |████████████████████████████████| 212.4MB 69kB/s \n",
            "\u001b[?25hCollecting py4j==0.10.9\n",
            "\u001b[?25l  Downloading https://files.pythonhosted.org/packages/9e/b6/6a4fb90cd235dc8e265a6a2067f2a2c99f0d91787f06aca4bcf7c23f3f80/py4j-0.10.9-py2.py3-none-any.whl (198kB)\n",
            "\u001b[K     |████████████████████████████████| 204kB 14.5MB/s \n",
            "\u001b[?25hBuilding wheels for collected packages: pyspark\n",
            "  Building wheel for pyspark (setup.py) ... \u001b[?25l\u001b[?25hdone\n",
            "  Created wheel for pyspark: filename=pyspark-3.1.2-py2.py3-none-any.whl size=212880768 sha256=74c57ef238bf223bbaff73f4c300cefe17d54234ffb6f4e183a83d7b61ae62ea\n",
            "  Stored in directory: /root/.cache/pip/wheels/40/1b/2c/30f43be2627857ab80062bef1527c0128f7b4070b6b2d02139\n",
            "Successfully built pyspark\n",
            "Installing collected packages: py4j, pyspark\n",
            "Successfully installed py4j-0.10.9 pyspark-3.1.2\n"
          ],
          "name": "stdout"
        }
      ]
    },
    {
      "cell_type": "code",
      "metadata": {
        "id": "DdgEukuQuvQZ"
      },
      "source": [
        "import pyspark"
      ],
      "execution_count": 2,
      "outputs": []
    },
    {
      "cell_type": "code",
      "metadata": {
        "id": "pLBGdd6fu5yz"
      },
      "source": [
        "from pyspark.sql import SparkSession"
      ],
      "execution_count": 3,
      "outputs": []
    },
    {
      "cell_type": "code",
      "metadata": {
        "id": "8AlfQOdBu7nn"
      },
      "source": [
        "spark = SparkSession.builder.appName('DfPractice').getOrCreate()"
      ],
      "execution_count": 4,
      "outputs": []
    },
    {
      "cell_type": "code",
      "metadata": {
        "colab": {
          "base_uri": "https://localhost:8080/",
          "height": 216
        },
        "id": "HGQUnZ51vEOJ",
        "outputId": "fcac156a-cac0-4f1a-91a3-a72b44e19d06"
      },
      "source": [
        "spark"
      ],
      "execution_count": 5,
      "outputs": [
        {
          "output_type": "execute_result",
          "data": {
            "text/html": [
              "\n",
              "            <div>\n",
              "                <p><b>SparkSession - in-memory</b></p>\n",
              "                \n",
              "        <div>\n",
              "            <p><b>SparkContext</b></p>\n",
              "\n",
              "            <p><a href=\"http://3b7dcee8b541:4040\">Spark UI</a></p>\n",
              "\n",
              "            <dl>\n",
              "              <dt>Version</dt>\n",
              "                <dd><code>v3.1.2</code></dd>\n",
              "              <dt>Master</dt>\n",
              "                <dd><code>local[*]</code></dd>\n",
              "              <dt>AppName</dt>\n",
              "                <dd><code>DfPractice</code></dd>\n",
              "            </dl>\n",
              "        </div>\n",
              "        \n",
              "            </div>\n",
              "        "
            ],
            "text/plain": [
              "<pyspark.sql.session.SparkSession at 0x7f241c2d3250>"
            ]
          },
          "metadata": {
            "tags": []
          },
          "execution_count": 5
        }
      ]
    },
    {
      "cell_type": "code",
      "metadata": {
        "colab": {
          "base_uri": "https://localhost:8080/"
        },
        "id": "u5xIqXx9vlVd",
        "outputId": "d88fbabe-bd53-4725-c800-d881dd6d53bf"
      },
      "source": [
        "spark.read.csv(\"/content/test2.csv\")"
      ],
      "execution_count": 6,
      "outputs": [
        {
          "output_type": "execute_result",
          "data": {
            "text/plain": [
              "DataFrame[_c0: string, _c1: string, _c2: string]"
            ]
          },
          "metadata": {
            "tags": []
          },
          "execution_count": 6
        }
      ]
    },
    {
      "cell_type": "code",
      "metadata": {
        "id": "X5Z9yO1dvm5W"
      },
      "source": [
        "df_spark = spark.read.option('header','true').csv('test2.csv')"
      ],
      "execution_count": 8,
      "outputs": []
    },
    {
      "cell_type": "code",
      "metadata": {
        "colab": {
          "base_uri": "https://localhost:8080/"
        },
        "id": "FFtTGwymvu8q",
        "outputId": "42f0f38d-fc24-4792-ff1f-e1ff1d3cf34c"
      },
      "source": [
        "df_spark.printSchema()"
      ],
      "execution_count": 9,
      "outputs": [
        {
          "output_type": "stream",
          "text": [
            "root\n",
            " |-- Name: string (nullable = true)\n",
            " |-- Age: string (nullable = true)\n",
            " |-- Experience: string (nullable = true)\n",
            "\n"
          ],
          "name": "stdout"
        }
      ]
    },
    {
      "cell_type": "code",
      "metadata": {
        "id": "mDvYugz1v38S"
      },
      "source": [
        "df_spark = spark.read.option('header','true').csv('test2.csv', inferSchema = True)"
      ],
      "execution_count": 10,
      "outputs": []
    },
    {
      "cell_type": "code",
      "metadata": {
        "colab": {
          "base_uri": "https://localhost:8080/"
        },
        "id": "-Ph80ZxywC8f",
        "outputId": "63a70fce-e188-476f-9868-e5fc37457590"
      },
      "source": [
        "df_spark.printSchema()"
      ],
      "execution_count": 11,
      "outputs": [
        {
          "output_type": "stream",
          "text": [
            "root\n",
            " |-- Name: string (nullable = true)\n",
            " |-- Age: integer (nullable = true)\n",
            " |-- Experience: integer (nullable = true)\n",
            "\n"
          ],
          "name": "stdout"
        }
      ]
    },
    {
      "cell_type": "code",
      "metadata": {
        "id": "OdC6HkUvwFGg"
      },
      "source": [
        "df_spark = spark.read.csv('test2.csv', header = True, inferSchema = True)"
      ],
      "execution_count": 12,
      "outputs": []
    },
    {
      "cell_type": "code",
      "metadata": {
        "colab": {
          "base_uri": "https://localhost:8080/"
        },
        "id": "XbdAbuqJwdFG",
        "outputId": "5d7b8602-f1a5-4c9e-a5f6-e5cdcade49af"
      },
      "source": [
        "df_spark.show()"
      ],
      "execution_count": 13,
      "outputs": [
        {
          "output_type": "stream",
          "text": [
            "+-----+---+----------+\n",
            "| Name|Age|Experience|\n",
            "+-----+---+----------+\n",
            "| Abba| 31|         3|\n",
            "|Jabba| 21|         2|\n",
            "|Dabba| 23|         1|\n",
            "+-----+---+----------+\n",
            "\n"
          ],
          "name": "stdout"
        }
      ]
    },
    {
      "cell_type": "code",
      "metadata": {
        "colab": {
          "base_uri": "https://localhost:8080/"
        },
        "id": "zs7Bfk4twfxT",
        "outputId": "5bb11e49-d3fb-4d23-a106-931416f03898"
      },
      "source": [
        "df_spark.printSchema()"
      ],
      "execution_count": 14,
      "outputs": [
        {
          "output_type": "stream",
          "text": [
            "root\n",
            " |-- Name: string (nullable = true)\n",
            " |-- Age: integer (nullable = true)\n",
            " |-- Experience: integer (nullable = true)\n",
            "\n"
          ],
          "name": "stdout"
        }
      ]
    },
    {
      "cell_type": "code",
      "metadata": {
        "colab": {
          "base_uri": "https://localhost:8080/"
        },
        "id": "_wf9H1PPwizA",
        "outputId": "e093a424-fc70-4a22-9bea-ec05eac10b21"
      },
      "source": [
        "type(df_spark)"
      ],
      "execution_count": 15,
      "outputs": [
        {
          "output_type": "execute_result",
          "data": {
            "text/plain": [
              "pyspark.sql.dataframe.DataFrame"
            ]
          },
          "metadata": {
            "tags": []
          },
          "execution_count": 15
        }
      ]
    },
    {
      "cell_type": "code",
      "metadata": {
        "colab": {
          "base_uri": "https://localhost:8080/"
        },
        "id": "er-G_fZgwlb8",
        "outputId": "132880e3-5f92-4589-b2f3-066c10fcb3d7"
      },
      "source": [
        "df_spark.columns"
      ],
      "execution_count": 16,
      "outputs": [
        {
          "output_type": "execute_result",
          "data": {
            "text/plain": [
              "['Name', 'Age', 'Experience']"
            ]
          },
          "metadata": {
            "tags": []
          },
          "execution_count": 16
        }
      ]
    },
    {
      "cell_type": "code",
      "metadata": {
        "colab": {
          "base_uri": "https://localhost:8080/"
        },
        "id": "AJmw0BDKwqef",
        "outputId": "22480807-6a6c-449e-df71-65d2edc830e2"
      },
      "source": [
        "df_spark.select('Name').show()"
      ],
      "execution_count": 17,
      "outputs": [
        {
          "output_type": "stream",
          "text": [
            "+-----+\n",
            "| Name|\n",
            "+-----+\n",
            "| Abba|\n",
            "|Jabba|\n",
            "|Dabba|\n",
            "+-----+\n",
            "\n"
          ],
          "name": "stdout"
        }
      ]
    },
    {
      "cell_type": "code",
      "metadata": {
        "colab": {
          "base_uri": "https://localhost:8080/"
        },
        "id": "qeAXHhHZw3Lr",
        "outputId": "c12a0576-af92-4d6a-9f4e-13904ed90085"
      },
      "source": [
        "df_spark.select(['Name','Experience']).show()"
      ],
      "execution_count": 18,
      "outputs": [
        {
          "output_type": "stream",
          "text": [
            "+-----+----------+\n",
            "| Name|Experience|\n",
            "+-----+----------+\n",
            "| Abba|         3|\n",
            "|Jabba|         2|\n",
            "|Dabba|         1|\n",
            "+-----+----------+\n",
            "\n"
          ],
          "name": "stdout"
        }
      ]
    },
    {
      "cell_type": "code",
      "metadata": {
        "colab": {
          "base_uri": "https://localhost:8080/"
        },
        "id": "OYsVW562w-7E",
        "outputId": "7d83b5e8-e809-4eaa-b716-756a7a0bfa93"
      },
      "source": [
        "df_spark['Name']"
      ],
      "execution_count": 19,
      "outputs": [
        {
          "output_type": "execute_result",
          "data": {
            "text/plain": [
              "Column<'Name'>"
            ]
          },
          "metadata": {
            "tags": []
          },
          "execution_count": 19
        }
      ]
    },
    {
      "cell_type": "code",
      "metadata": {
        "colab": {
          "base_uri": "https://localhost:8080/"
        },
        "id": "T0CR_Ec7xDfF",
        "outputId": "ab919f16-03d9-46d2-846c-69187dbc26ec"
      },
      "source": [
        "df_spark.dtypes"
      ],
      "execution_count": 20,
      "outputs": [
        {
          "output_type": "execute_result",
          "data": {
            "text/plain": [
              "[('Name', 'string'), ('Age', 'int'), ('Experience', 'int')]"
            ]
          },
          "metadata": {
            "tags": []
          },
          "execution_count": 20
        }
      ]
    },
    {
      "cell_type": "code",
      "metadata": {
        "colab": {
          "base_uri": "https://localhost:8080/"
        },
        "id": "kB1tddGgxKby",
        "outputId": "feb4c8d9-4b5b-43ca-8c36-0b2d47e708ff"
      },
      "source": [
        "df_spark.describe().show()"
      ],
      "execution_count": 22,
      "outputs": [
        {
          "output_type": "stream",
          "text": [
            "+-------+-----+-----------------+----------+\n",
            "|summary| Name|              Age|Experience|\n",
            "+-------+-----+-----------------+----------+\n",
            "|  count|    3|                3|         3|\n",
            "|   mean| null|             25.0|       2.0|\n",
            "| stddev| null|5.291502622129181|       1.0|\n",
            "|    min| Abba|               21|         1|\n",
            "|    max|Jabba|               31|         3|\n",
            "+-------+-----+-----------------+----------+\n",
            "\n"
          ],
          "name": "stdout"
        }
      ]
    },
    {
      "cell_type": "code",
      "metadata": {
        "colab": {
          "base_uri": "https://localhost:8080/"
        },
        "id": "oBThP2jIxNLV",
        "outputId": "f05aa6d0-7d7e-4c86-a7db-0128d9852863"
      },
      "source": [
        "#adding column\n",
        "df_spark.withColumn('Experience after 2 years',df_spark['Experience']+2).show()"
      ],
      "execution_count": 23,
      "outputs": [
        {
          "output_type": "stream",
          "text": [
            "+-----+---+----------+------------------------+\n",
            "| Name|Age|Experience|Experience after 2 years|\n",
            "+-----+---+----------+------------------------+\n",
            "| Abba| 31|         3|                       5|\n",
            "|Jabba| 21|         2|                       4|\n",
            "|Dabba| 23|         1|                       3|\n",
            "+-----+---+----------+------------------------+\n",
            "\n"
          ],
          "name": "stdout"
        }
      ]
    },
    {
      "cell_type": "code",
      "metadata": {
        "colab": {
          "base_uri": "https://localhost:8080/"
        },
        "id": "k9IkRrBJxkAr",
        "outputId": "9ab4b985-63d9-4361-b256-266273f91b20"
      },
      "source": [
        " df_spark.drop('Experience after 2 years')"
      ],
      "execution_count": 24,
      "outputs": [
        {
          "output_type": "execute_result",
          "data": {
            "text/plain": [
              "DataFrame[Name: string, Age: int, Experience: int]"
            ]
          },
          "metadata": {
            "tags": []
          },
          "execution_count": 24
        }
      ]
    },
    {
      "cell_type": "code",
      "metadata": {
        "colab": {
          "base_uri": "https://localhost:8080/"
        },
        "id": "_UjEP0Eqx2XU",
        "outputId": "0d96d6af-b818-4b48-deb2-20a231e60b9a"
      },
      "source": [
        "df_spark.show()"
      ],
      "execution_count": 25,
      "outputs": [
        {
          "output_type": "stream",
          "text": [
            "+-----+---+----------+\n",
            "| Name|Age|Experience|\n",
            "+-----+---+----------+\n",
            "| Abba| 31|         3|\n",
            "|Jabba| 21|         2|\n",
            "|Dabba| 23|         1|\n",
            "+-----+---+----------+\n",
            "\n"
          ],
          "name": "stdout"
        }
      ]
    },
    {
      "cell_type": "code",
      "metadata": {
        "colab": {
          "base_uri": "https://localhost:8080/"
        },
        "id": "cWO2QHKmx4N2",
        "outputId": "9b194761-5952-4c9d-a73a-d2c22e4ad241"
      },
      "source": [
        "df_spark.withColumnRenamed('Name','EmpName').show()"
      ],
      "execution_count": 26,
      "outputs": [
        {
          "output_type": "stream",
          "text": [
            "+-------+---+----------+\n",
            "|EmpName|Age|Experience|\n",
            "+-------+---+----------+\n",
            "|   Abba| 31|         3|\n",
            "|  Jabba| 21|         2|\n",
            "|  Dabba| 23|         1|\n",
            "+-------+---+----------+\n",
            "\n"
          ],
          "name": "stdout"
        }
      ]
    },
    {
      "cell_type": "code",
      "metadata": {
        "colab": {
          "base_uri": "https://localhost:8080/"
        },
        "id": "ULkcSX-cyDX6",
        "outputId": "a13413a4-ad2a-4273-d456-4ab78ef52335"
      },
      "source": [
        "spark.read.csv(\"/content/test3.csv\")"
      ],
      "execution_count": 31,
      "outputs": [
        {
          "output_type": "execute_result",
          "data": {
            "text/plain": [
              "DataFrame[_c0: string, _c1: string, _c2: string, _c3: string]"
            ]
          },
          "metadata": {
            "tags": []
          },
          "execution_count": 31
        }
      ]
    },
    {
      "cell_type": "code",
      "metadata": {
        "id": "cgL5Ct_729RI"
      },
      "source": [
        "df_pyspark = spark.read.csv('test3.csv', header = True, inferSchema = True)"
      ],
      "execution_count": 32,
      "outputs": []
    },
    {
      "cell_type": "code",
      "metadata": {
        "colab": {
          "base_uri": "https://localhost:8080/"
        },
        "id": "KzyZaCFD3O9A",
        "outputId": "2a2ea440-820d-4eff-f906-31b22d078715"
      },
      "source": [
        "df_pyspark.show()"
      ],
      "execution_count": 34,
      "outputs": [
        {
          "output_type": "stream",
          "text": [
            "+-----+----+----------+-------+\n",
            "| Name| Age|Experience| Salary|\n",
            "+-----+----+----------+-------+\n",
            "| Abba|  31|         3|  30000|\n",
            "|Jabba|  21|         2|  40000|\n",
            "|Dabba|  23|         1|  20000|\n",
            "| cat |null|         8|  73637|\n",
            "|  dog|  21|      null|   null|\n",
            "|  stu|  22|      null|   2364|\n",
            "| Stut|  23|        23|2324422|\n",
            "+-----+----+----------+-------+\n",
            "\n"
          ],
          "name": "stdout"
        }
      ]
    },
    {
      "cell_type": "code",
      "metadata": {
        "colab": {
          "base_uri": "https://localhost:8080/"
        },
        "id": "d29RCDdP3RDL",
        "outputId": "67dec69a-7111-413e-ad36-95d3726b8f14"
      },
      "source": [
        "df_pyspark.drop('Name').show()"
      ],
      "execution_count": 35,
      "outputs": [
        {
          "output_type": "stream",
          "text": [
            "+----+----------+-------+\n",
            "| Age|Experience| Salary|\n",
            "+----+----------+-------+\n",
            "|  31|         3|  30000|\n",
            "|  21|         2|  40000|\n",
            "|  23|         1|  20000|\n",
            "|null|         8|  73637|\n",
            "|  21|      null|   null|\n",
            "|  22|      null|   2364|\n",
            "|  23|        23|2324422|\n",
            "+----+----------+-------+\n",
            "\n"
          ],
          "name": "stdout"
        }
      ]
    },
    {
      "cell_type": "code",
      "metadata": {
        "colab": {
          "base_uri": "https://localhost:8080/"
        },
        "id": "1W6-JJc73eYM",
        "outputId": "18acf5d0-cd86-4c17-ff82-9eba4463928d"
      },
      "source": [
        "df_pyspark.na.drop().show()"
      ],
      "execution_count": 37,
      "outputs": [
        {
          "output_type": "stream",
          "text": [
            "+-----+---+----------+-------+\n",
            "| Name|Age|Experience| Salary|\n",
            "+-----+---+----------+-------+\n",
            "| Abba| 31|         3|  30000|\n",
            "|Jabba| 21|         2|  40000|\n",
            "|Dabba| 23|         1|  20000|\n",
            "| Stut| 23|        23|2324422|\n",
            "+-----+---+----------+-------+\n",
            "\n"
          ],
          "name": "stdout"
        }
      ]
    },
    {
      "cell_type": "code",
      "metadata": {
        "id": "00JoEgpK4U3M"
      },
      "source": [
        "from pyspark.ml.feature import Imputer\n",
        "\n",
        "imputer = Imputer(\n",
        "    inputCols=['Age','Experience'],\n",
        "    outputCols=[\"{}_imputed\".format(c) for c in ['Age','Experience']]\n",
        "    ).setStrategy(\"mean\")"
      ],
      "execution_count": 60,
      "outputs": []
    },
    {
      "cell_type": "code",
      "metadata": {
        "colab": {
          "base_uri": "https://localhost:8080/"
        },
        "id": "UcUEjznq4wlA",
        "outputId": "68fcb6b1-2639-4573-c53e-4f8f65f4c837"
      },
      "source": [
        "imputer.fit(df_pyspark).transform(df_pyspark).show()"
      ],
      "execution_count": 62,
      "outputs": [
        {
          "output_type": "stream",
          "text": [
            "+-----+----+----------+-------+-----------+------------------+\n",
            "| Name| Age|Experience| Salary|Age_imputed|Experience_imputed|\n",
            "+-----+----+----------+-------+-----------+------------------+\n",
            "| Abba|  31|         3|  30000|         31|                 3|\n",
            "|Jabba|  21|         2|  40000|         21|                 2|\n",
            "|Dabba|  23|         1|  20000|         23|                 1|\n",
            "| cat |null|         8|  73637|         23|                 8|\n",
            "|  dog|  21|      null|   null|         21|                 7|\n",
            "|  stu|  22|      null|   2364|         22|                 7|\n",
            "| Stut|  23|        23|2324422|         23|                23|\n",
            "+-----+----+----------+-------+-----------+------------------+\n",
            "\n"
          ],
          "name": "stdout"
        }
      ]
    },
    {
      "cell_type": "markdown",
      "metadata": {
        "id": "UbQObfKq7Blg"
      },
      "source": [
        ""
      ]
    },
    {
      "cell_type": "code",
      "metadata": {
        "colab": {
          "base_uri": "https://localhost:8080/"
        },
        "id": "Cj_XQi447ynm",
        "outputId": "41749f8b-8c93-4602-deba-ed1016534fd3"
      },
      "source": [
        "df_pyspark.filter('Salary<=20000').show()"
      ],
      "execution_count": 63,
      "outputs": [
        {
          "output_type": "stream",
          "text": [
            "+-----+---+----------+------+\n",
            "| Name|Age|Experience|Salary|\n",
            "+-----+---+----------+------+\n",
            "|Dabba| 23|         1| 20000|\n",
            "|  stu| 22|      null|  2364|\n",
            "+-----+---+----------+------+\n",
            "\n"
          ],
          "name": "stdout"
        }
      ]
    },
    {
      "cell_type": "code",
      "metadata": {
        "colab": {
          "base_uri": "https://localhost:8080/"
        },
        "id": "ULK3xKS474U0",
        "outputId": "1a842c9b-5903-4321-d95f-9867eea8e5c8"
      },
      "source": [
        "df_pyspark.filter('Salary<=20000').select(['Name','Age']).show()"
      ],
      "execution_count": 64,
      "outputs": [
        {
          "output_type": "stream",
          "text": [
            "+-----+---+\n",
            "| Name|Age|\n",
            "+-----+---+\n",
            "|Dabba| 23|\n",
            "|  stu| 22|\n",
            "+-----+---+\n",
            "\n"
          ],
          "name": "stdout"
        }
      ]
    },
    {
      "cell_type": "code",
      "metadata": {
        "colab": {
          "base_uri": "https://localhost:8080/"
        },
        "id": "22MiiCCc8C70",
        "outputId": "62b1f1ab-1de3-4e8f-aac5-45a47560dc84"
      },
      "source": [
        "df_pyspark.filter(df_pyspark['Salary']<=20000).show()"
      ],
      "execution_count": 65,
      "outputs": [
        {
          "output_type": "stream",
          "text": [
            "+-----+---+----------+------+\n",
            "| Name|Age|Experience|Salary|\n",
            "+-----+---+----------+------+\n",
            "|Dabba| 23|         1| 20000|\n",
            "|  stu| 22|      null|  2364|\n",
            "+-----+---+----------+------+\n",
            "\n"
          ],
          "name": "stdout"
        }
      ]
    },
    {
      "cell_type": "code",
      "metadata": {
        "colab": {
          "base_uri": "https://localhost:8080/"
        },
        "id": "aqNOetNd8QLA",
        "outputId": "d7136c51-519c-42e4-f169-2d18fe253623"
      },
      "source": [
        "df_pyspark.filter((df_pyspark['Salary']<=20000) & (df_pyspark['Age']==23)).show()"
      ],
      "execution_count": 70,
      "outputs": [
        {
          "output_type": "stream",
          "text": [
            "+-----+---+----------+------+\n",
            "| Name|Age|Experience|Salary|\n",
            "+-----+---+----------+------+\n",
            "|Dabba| 23|         1| 20000|\n",
            "+-----+---+----------+------+\n",
            "\n"
          ],
          "name": "stdout"
        }
      ]
    },
    {
      "cell_type": "code",
      "metadata": {
        "colab": {
          "base_uri": "https://localhost:8080/"
        },
        "id": "0SirTBnD8cDq",
        "outputId": "0c7fbdab-d0ce-4ee4-c7a5-97c81cd53c28"
      },
      "source": [
        "df_pyspark.filter(~(df_pyspark['Salary']<=20000) & (df_pyspark['Age']==23)).show()"
      ],
      "execution_count": 71,
      "outputs": [
        {
          "output_type": "stream",
          "text": [
            "+----+---+----------+-------+\n",
            "|Name|Age|Experience| Salary|\n",
            "+----+---+----------+-------+\n",
            "|Stut| 23|        23|2324422|\n",
            "+----+---+----------+-------+\n",
            "\n"
          ],
          "name": "stdout"
        }
      ]
    },
    {
      "cell_type": "code",
      "metadata": {
        "colab": {
          "base_uri": "https://localhost:8080/"
        },
        "id": "qw4KtFWw8xOw",
        "outputId": "6649b32c-14a6-49b6-de06-816055e2a7eb"
      },
      "source": [
        "df_pyspark.groupby('Name').sum().show()"
      ],
      "execution_count": 74,
      "outputs": [
        {
          "output_type": "stream",
          "text": [
            "+-----+--------+---------------+\n",
            "| Name|sum(Age)|sum(Experience)|\n",
            "+-----+--------+---------------+\n",
            "| Stut|      23|             23|\n",
            "|  dog|      21|           null|\n",
            "| cat |    null|              8|\n",
            "| Abba|      31|              3|\n",
            "|Jabba|      21|              2|\n",
            "|  stu|      22|           null|\n",
            "|Dabba|      23|              1|\n",
            "+-----+--------+---------------+\n",
            "\n"
          ],
          "name": "stdout"
        }
      ]
    },
    {
      "cell_type": "code",
      "metadata": {
        "colab": {
          "base_uri": "https://localhost:8080/"
        },
        "id": "uwz1Ff5Y89xX",
        "outputId": "e6b76ca8-6138-4440-b273-4f118eef69b2"
      },
      "source": [
        "df_pyspark.groupby('Age').mean().show()"
      ],
      "execution_count": 75,
      "outputs": [
        {
          "output_type": "stream",
          "text": [
            "+----+--------+---------------+\n",
            "| Age|avg(Age)|avg(Experience)|\n",
            "+----+--------+---------------+\n",
            "|  31|    31.0|            3.0|\n",
            "|  22|    22.0|           null|\n",
            "|null|    null|            8.0|\n",
            "|  23|    23.0|           12.0|\n",
            "|  21|    21.0|            2.0|\n",
            "+----+--------+---------------+\n",
            "\n"
          ],
          "name": "stdout"
        }
      ]
    },
    {
      "cell_type": "code",
      "metadata": {
        "id": "OGwbL63z9Y2U"
      },
      "source": [
        ""
      ],
      "execution_count": null,
      "outputs": []
    }
  ]
}